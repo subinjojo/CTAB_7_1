{
  "nbformat": 4,
  "nbformat_minor": 0,
  "metadata": {
    "colab": {
      "provenance": [],
      "authorship_tag": "ABX9TyNCFXbjBtYKadrU+4H/XlZo",
      "include_colab_link": true
    },
    "kernelspec": {
      "name": "python3",
      "display_name": "Python 3"
    },
    "language_info": {
      "name": "python"
    }
  },
  "cells": [
    {
      "cell_type": "markdown",
      "metadata": {
        "id": "view-in-github",
        "colab_type": "text"
      },
      "source": [
        "<a href=\"https://colab.research.google.com/github/subinjojo/CTAB_7_1/blob/main/CTAB_7_1.ipynb\" target=\"_parent\"><img src=\"https://colab.research.google.com/assets/colab-badge.svg\" alt=\"Open In Colab\"/></a>"
      ]
    },
    {
      "cell_type": "markdown",
      "source": [
        "1.일한 시간과 시급을 계산하여 출력하는 코드\n",
        " - 일한 시간(hours_worked)\n",
        " - 일한 날짜(day_worked)\n",
        " - 시급(pay-rate)\n",
        " - 월급(monthly_pay)"
      ],
      "metadata": {
        "id": "kiJNOX3cnsGA"
      }
    },
    {
      "cell_type": "code",
      "source": [
        "hours_worked = int(input(\"일한 시간을 입력하시오.:\"))\n",
        "pay_rate = int(input(\"시급을 입력하시오.(23년 시급 9620):\"))\n",
        "day_worked = int(input(\"일한 날짜를 입력하시오.:\"))\n",
        "day_month = hours_worked *day_worked\n",
        "monthly_pay = hours_worked * pay_rate * day_worked\n",
        "print(f'일한시간은 {hours_worked}이며, 시급은 {pay_rate}이고, 월급여는 {monthly_pay}입니다.')"
      ],
      "metadata": {
        "colab": {
          "base_uri": "https://localhost:8080/"
        },
        "id": "BaRyqvPCpDmw",
        "outputId": "938fcccf-35aa-4c27-bc87-0ba1458f9012"
      },
      "execution_count": null,
      "outputs": [
        {
          "output_type": "stream",
          "name": "stdout",
          "text": [
            "일한 시간을 입력하시오.:10\n",
            "시급을 입력하시오.(23년 시급 9620):9620\n",
            "일한 날짜를 입력하시오.:25\n",
            "일한시간은 10이며, 시급은 9620이고, 월급여는 2405000입니다.\n"
          ]
        }
      ]
    },
    {
      "cell_type": "markdown",
      "source": [
        "2.환전하는 코드를 작성\n",
        "- 변수 won, usd, exchange\n",
        "- 계산 won*usd"
      ],
      "metadata": {
        "id": "Y3MQynsvunNd"
      }
    },
    {
      "cell_type": "code",
      "source": [
        "usd = int(input(\"환전할 달라를 입력:\"))\n",
        "won = int(input(\"달러의 환율금액 입력(231031: 1372원)\"))\n",
        "exchange = won * usd\n",
        "print(f'환전하고 싶은 {usd}달러는 환율 {won}으로 계산하면 {exchange}원 입니다.')"
      ],
      "metadata": {
        "colab": {
          "base_uri": "https://localhost:8080/"
        },
        "id": "Z5hkxiDvvCM6",
        "outputId": "ec82198f-4392-4e5d-ae6f-e53a40b82da8"
      },
      "execution_count": null,
      "outputs": [
        {
          "output_type": "stream",
          "name": "stdout",
          "text": [
            "환전할 달라를 입력:500\n",
            "달러의 환율금액 입력(231031: 1372원)1372\n",
            "환전하고 싶은 500달러는 환율 1372으로 계산하면 686000원 입니다.\n"
          ]
        }
      ]
    },
    {
      "cell_type": "markdown",
      "source": [
        "3.화씨를 섭씨로 섭씨를 화씨로 변경하는 코드\n",
        "- 화씨를 섭씨로 ℉ = ℃ * 1.8 + 32\n",
        "- 섭씨를 화씨로 ℃ = (℉ -32) / 1.8\n",
        "- 변수 : 화씨 fahrenheit, 섭씨 celsius"
      ],
      "metadata": {
        "id": "UgRzKUzfyIwB"
      }
    },
    {
      "cell_type": "code",
      "source": [
        " fahrenheit = int(input(\"화씨를 입력하시오.:\"))\n",
        " celsius = (fahrenheit - 32) / 1.8\n",
        " print(celsius)"
      ],
      "metadata": {
        "colab": {
          "base_uri": "https://localhost:8080/"
        },
        "id": "rgjOTqqBzauq",
        "outputId": "15b21f76-9726-44b1-b2ef-75fdaaacd32f"
      },
      "execution_count": null,
      "outputs": [
        {
          "output_type": "stream",
          "name": "stdout",
          "text": [
            "화씨를 입력하시오.:100\n",
            "37.77777777777778\n"
          ]
        }
      ]
    },
    {
      "cell_type": "code",
      "source": [
        "celsius = float(input(\"섭씨를 입력하시오.:\"))\n",
        "fahrenheit = celsius * 1.8 + 32\n",
        "print(fahrenheit)"
      ],
      "metadata": {
        "colab": {
          "base_uri": "https://localhost:8080/"
        },
        "id": "kNif7caJ0Te9",
        "outputId": "ebc7fbad-e739-450f-e31e-7f46c6ed7550"
      },
      "execution_count": null,
      "outputs": [
        {
          "output_type": "stream",
          "name": "stdout",
          "text": [
            "섭씨를 입력하시오.:37.77777777777778\n",
            "100.0\n"
          ]
        }
      ]
    }
  ]
}