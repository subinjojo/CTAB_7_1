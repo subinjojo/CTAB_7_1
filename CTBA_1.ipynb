{
  "nbformat": 4,
  "nbformat_minor": 0,
  "metadata": {
    "colab": {
      "provenance": [],
      "authorship_tag": "ABX9TyNJ4pG9khrU1auaCsVhh51K",
      "include_colab_link": true
    },
    "kernelspec": {
      "name": "python3",
      "display_name": "Python 3"
    },
    "language_info": {
      "name": "python"
    }
  },
  "cells": [
    {
      "cell_type": "markdown",
      "metadata": {
        "id": "view-in-github",
        "colab_type": "text"
      },
      "source": [
        "<a href=\"https://colab.research.google.com/github/subinjojo/CTAB_7_1/blob/main/CTBA_1.ipynb\" target=\"_parent\"><img src=\"https://colab.research.google.com/assets/colab-badge.svg\" alt=\"Open In Colab\"/></a>"
      ]
    },
    {
      "cell_type": "markdown",
      "source": [
        "1.쇼핑몰의 배송료를 계산하는 코드 작성\n",
        "- 사용하는 변수: price, shipping_cost"
      ],
      "metadata": {
        "id": "RLT7FdsAcaCo"
      }
    },
    {
      "cell_type": "code",
      "execution_count": null,
      "metadata": {
        "id": "rqwsQjO9bP6N"
      },
      "outputs": [],
      "source": [
        "#print(\"상품의 가격을 입력하시오.\")\n",
        "price = int(input(\"구입금액을 입력: \"))\n",
        "if price > 20000:\n",
        "  shipping_cost = 0\n",
        "  print(f'구입금액이 2만원 이상입니다.')\n",
        "else:\n",
        "  shipping_cost = 3000\n",
        "  print(f'구입금액이 2만원 이하입니다.')\n",
        "print(f'회원님의 배송비는 {shipping_cost}원 입니다.')"
      ]
    },
    {
      "cell_type": "markdown",
      "source": [
        "2.학생으로 성적을 입력받아 합격유무를 출력하는 코드\n",
        "- 사용변수:grade"
      ],
      "metadata": {
        "id": "-ZEiOBZfgr9J"
      }
    },
    {
      "cell_type": "code",
      "source": [
        "#print(\"성적을 입력하시오.\")\n",
        "grade = int(input(\"성적입력: \"))\n",
        "if grade>= 70:\n",
        "  print(f'70점 이상이므로 합격입니다.')\n",
        "  print(\"축하합니다. 합격입니다.\")\n",
        "else:\n",
        "  print(f'70점 이하이므로 불합격입니다.')\n",
        "  print(\"아쉽군요. 다시한번 도전하세요.\")"
      ],
      "metadata": {
        "id": "O20rUzsQhDGh"
      },
      "execution_count": null,
      "outputs": []
    },
    {
      "cell_type": "markdown",
      "source": [
        "3.근무시간에 따라 초과근무와 정상근무를 판별하는 코드\n",
        "- work_hour\n",
        "- 코드 work_hour > 72"
      ],
      "metadata": {
        "id": "CQrZOg-vh4yx"
      }
    },
    {
      "cell_type": "code",
      "source": [
        "#print(\"근무 시간을 입력하시오.\")\n",
        "work_hour = int(input(\"근무시간 입력: \"))\n",
        "if work_hour>= 72:\n",
        "  print(\"­-\"*19 )\n",
        "  print(\"초과근무 입니다.\")\n",
        "  print(\"-\"*19 )\n",
        "else:\n",
        "  print(\"-\"*19 )\n",
        "  print(\"정상근무입니다.\")\n",
        "  print(\"-\"*19 )\n"
      ],
      "metadata": {
        "id": "-I-Lnyn5iOD0"
      },
      "execution_count": null,
      "outputs": []
    },
    {
      "cell_type": "markdown",
      "source": [
        "4.짝수와 홀수를 판별하는 코드\n",
        "- 사용변수: _num_\n",
        "- 수식:{x % 2}!= 0:"
      ],
      "metadata": {
        "id": "XKXPUZKtl3tf"
      }
    },
    {
      "cell_type": "code",
      "source": [
        "#print(\"정수를 입력하시오.\")\n",
        "_num_ = int(input(\"정수입력: \"))\n",
        "if (_num_ % 2) != 0:\n",
        "  print(f'입력하신 {_num_}은 홀수입니다.')\n",
        "else:\n",
        "  print(f' 입력하신 {_num_}은 짝수입니다.')"
      ],
      "metadata": {
        "id": "k8OFwSYFmWwH"
      },
      "execution_count": null,
      "outputs": []
    },
    {
      "cell_type": "markdown",
      "source": [
        "5.사용자의 이름과 나이를 물어보고, 답변하는 코드\n",
        "- 사용변수:name, age\n",
        "- 출력할 내용:\n",
        "  - 성명\n",
        "  - 나이 : 20\n",
        "  -(1) 20살 이하: 프로그래밍을 배우는 최적의 나이입니다.\n",
        "  -(2) 20살 이상: 아직도 늦지 않았습니다"
      ],
      "metadata": {
        "id": "qVDPOE5MnOoj"
      }
    },
    {
      "cell_type": "code",
      "source": [
        "#print(\"이름과  나이를 입력하시오\")\n",
        "name = input(\"이름입력: \")\n",
        "age =int(input(\"나이입력: \"))\n",
        "if age >= 20:\n",
        "  print(\"프로그래밍을 배우는 최적의 나이입니다\")\n",
        "else:\n",
        "  print(\"아직도 늦지 않았습니다\")\n",
        "\n",
        "\n"
      ],
      "metadata": {
        "colab": {
          "base_uri": "https://localhost:8080/",
          "height": 294
        },
        "id": "ncwGyAtDn50b",
        "outputId": "b019e105-d63c-4905-8dec-428f9d778e2b"
      },
      "execution_count": 40,
      "outputs": [
        {
          "name": "stdout",
          "output_type": "stream",
          "text": [
            "이름입력: 조수빈\n",
            "나이입력: 22\n"
          ]
        },
        {
          "output_type": "error",
          "ename": "TypeError",
          "evalue": "ignored",
          "traceback": [
            "\u001b[0;31m---------------------------------------------------------------------------\u001b[0m",
            "\u001b[0;31mTypeError\u001b[0m                                 Traceback (most recent call last)",
            "\u001b[0;32m<ipython-input-40-c13025d2431d>\u001b[0m in \u001b[0;36m<cell line: 4>\u001b[0;34m()\u001b[0m\n\u001b[1;32m      3\u001b[0m \u001b[0mage\u001b[0m \u001b[0;34m=\u001b[0m\u001b[0mint\u001b[0m\u001b[0;34m(\u001b[0m\u001b[0minput\u001b[0m\u001b[0;34m(\u001b[0m\u001b[0;34m\"나이입력: \"\u001b[0m\u001b[0;34m)\u001b[0m\u001b[0;34m)\u001b[0m\u001b[0;34m\u001b[0m\u001b[0;34m\u001b[0m\u001b[0m\n\u001b[1;32m      4\u001b[0m \u001b[0;32mif\u001b[0m \u001b[0mage\u001b[0m \u001b[0;34m>=\u001b[0m \u001b[0;36m20\u001b[0m\u001b[0;34m:\u001b[0m\u001b[0;34m\u001b[0m\u001b[0;34m\u001b[0m\u001b[0m\n\u001b[0;32m----> 5\u001b[0;31m   \u001b[0mprint\u001b[0m\u001b[0;34m(\u001b[0m\u001b[0;34m\"프로그래밍을 배우는 최적의 나이입니다\"\u001b[0m\u001b[0;34m)\u001b[0m\u001b[0;34m\u001b[0m\u001b[0;34m\u001b[0m\u001b[0m\n\u001b[0m\u001b[1;32m      6\u001b[0m \u001b[0;32melse\u001b[0m\u001b[0;34m:\u001b[0m\u001b[0;34m\u001b[0m\u001b[0;34m\u001b[0m\u001b[0m\n\u001b[1;32m      7\u001b[0m   \u001b[0mprint\u001b[0m\u001b[0;34m(\u001b[0m\u001b[0;34m\"아직도 늦지 않았습니다\"\u001b[0m\u001b[0;34m)\u001b[0m\u001b[0;34m\u001b[0m\u001b[0;34m\u001b[0m\u001b[0m\n",
            "\u001b[0;31mTypeError\u001b[0m: 'str' object is not callable"
          ]
        }
      ]
    }
  ]
}