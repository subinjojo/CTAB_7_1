{
  "nbformat": 4,
  "nbformat_minor": 0,
  "metadata": {
    "colab": {
      "provenance": [],
      "authorship_tag": "ABX9TyPnrk9lGCFGrdqHPd4UxDEg",
      "include_colab_link": true
    },
    "kernelspec": {
      "name": "python3",
      "display_name": "Python 3"
    },
    "language_info": {
      "name": "python"
    }
  },
  "cells": [
    {
      "cell_type": "markdown",
      "metadata": {
        "id": "view-in-github",
        "colab_type": "text"
      },
      "source": [
        "<a href=\"https://colab.research.google.com/github/subinjojo/CTAB_7_1/blob/main/CTBC_9.ipynb\" target=\"_parent\"><img src=\"https://colab.research.google.com/assets/colab-badge.svg\" alt=\"Open In Colab\"/></a>"
      ]
    },
    {
      "cell_type": "markdown",
      "source": [
        "1. 두가지 이상의 선택, 다방향 선택구조 코딩\n",
        " - 배송료 처리 3가지로 코딩\n",
        " - 변수 : price\n",
        " - 조건 ; 10만원 이상 배송비 0, 2만원 이상은 3천원, 2만원 이하면 5천원"
      ],
      "metadata": {
        "id": "FwC_sBkzrZcK"
      }
    },
    {
      "cell_type": "code",
      "source": [
        "price = int(input(\"구입 금액 입력: \"))          # 변수 price 사용자가 정수형 금액입력\n",
        "if price >= 100000:                             # price의 값이 10만원보다 크거나 같으면\n",
        "  shipping_cost = 0                             # 선택1.배송료(shipping_cost)는 0원\n",
        "else:                                           # 그게 아니면\n",
        "   if price >= 20000:                           # 선택2 pricer값이 2만원보다 크거나 같으면\n",
        "    shipping_cost = 3000                        # 배송료(shipping_cost)는 3000\n",
        "   else:                                        # 그것도 아니면\n",
        "    shipping_cost = 5000                        # 선택3. 배송료(shipping_cost)는 5000\n",
        "print(f'배송료는 {shipping_cost}원 입니다.')    # F-staing문자 Format으로 최종배송료 출력"
      ],
      "metadata": {
        "colab": {
          "base_uri": "https://localhost:8080/"
        },
        "id": "Kzn546xgsWt7",
        "outputId": "f9453f85-7d4a-4a55-8a12-904266b969db"
      },
      "execution_count": null,
      "outputs": [
        {
          "output_type": "stream",
          "name": "stdout",
          "text": [
            "구입 금액 입력: 200000\n",
            "배송료는 0원 입니다.\n"
          ]
        }
      ]
    },
    {
      "cell_type": "markdown",
      "source": [
        "2.반복구조를 이용한 \"환영합니다.\"를 5번 출력하는 코드 작성\n",
        " - 변수 : welcome\n",
        " - 출력내용 ; 환영합니다.를 세로로 5번,10번,30번"
      ],
      "metadata": {
        "id": "ulA8nlRCypGv"
      }
    },
    {
      "cell_type": "code",
      "source": [
        "print(\"환영합니다.\")\n",
        "print(\"환영합니다.\")\n",
        "print(\"환영합니다.\")\n",
        "print(\"환영합니다.\")\n",
        "print(\"환영합니다.\")"
      ],
      "metadata": {
        "colab": {
          "base_uri": "https://localhost:8080/"
        },
        "id": "MXf2TdPm0Utw",
        "outputId": "30222329-3353-460a-9d60-8b1dc56ff88f"
      },
      "execution_count": 11,
      "outputs": [
        {
          "output_type": "stream",
          "name": "stdout",
          "text": [
            "환영합니다.\n",
            "환영합니다.\n",
            "환영합니다.\n",
            "환영합니다.\n",
            "환영합니다.\n"
          ]
        }
      ]
    },
    {
      "cell_type": "code",
      "source": [
        "print(\"환영합니다.\\n 5\")"
      ],
      "metadata": {
        "colab": {
          "base_uri": "https://localhost:8080/"
        },
        "id": "Qmqv233uzBjT",
        "outputId": "91c9241e-a937-4c5d-b3e6-7fe8ffbf7397"
      },
      "execution_count": 24,
      "outputs": [
        {
          "output_type": "stream",
          "name": "stdout",
          "text": [
            "환영합니다.\n",
            " + 5\n"
          ]
        }
      ]
    },
    {
      "cell_type": "code",
      "source": [
        "count = 1\n",
        "while count <= 5:\n",
        "  print(\"(\", count, \")\", \"환영합니다.\")\n",
        "  count = count + 1"
      ],
      "metadata": {
        "colab": {
          "base_uri": "https://localhost:8080/"
        },
        "id": "1pJg5gngzoA3",
        "outputId": "0ceb4362-4fb7-42f6-eb5b-efd732ddea28"
      },
      "execution_count": 21,
      "outputs": [
        {
          "output_type": "stream",
          "name": "stdout",
          "text": [
            "( 1 ) 환영합니다.\n",
            "( 2 ) 환영합니다.\n",
            "( 3 ) 환영합니다.\n",
            "( 4 ) 환영합니다.\n",
            "( 5 ) 환영합니다.\n"
          ]
        }
      ]
    },
    {
      "cell_type": "markdown",
      "source": [
        "3.0부터 9까지 출력하는 코드 작성\n",
        " - 변수:x"
      ],
      "metadata": {
        "id": "rZjR-nvR1ilQ"
      }
    },
    {
      "cell_type": "code",
      "source": [
        "x = 0\n",
        "while x < 10:\n",
        "  #print(x)\n",
        "  print(x, end='')\n",
        "  x = x + 1"
      ],
      "metadata": {
        "colab": {
          "base_uri": "https://localhost:8080/"
        },
        "id": "st_3l4tw1pfS",
        "outputId": "660cba3e-c7bf-4288-e330-d3bc0602ce75"
      },
      "execution_count": 26,
      "outputs": [
        {
          "output_type": "stream",
          "name": "stdout",
          "text": [
            "0123456789"
          ]
        }
      ]
    },
    {
      "cell_type": "markdown",
      "source": [
        "4.1부터 10까지 합산하는 코드작성"
      ],
      "metadata": {
        "id": "FVXH6UX03Eoo"
      }
    },
    {
      "cell_type": "code",
      "source": [
        "x = 1\n",
        "total = 0\n",
        "while x <= 10:\n",
        "  total += x\n",
        "  #total = total + 1\n",
        "  #x = x + 1\n",
        "  x += 1\n",
        "print(total)"
      ],
      "metadata": {
        "colab": {
          "base_uri": "https://localhost:8080/"
        },
        "id": "8eb93bHi3J2S",
        "outputId": "7e79e923-3ea6-4ec1-e311-41db067f5894"
      },
      "execution_count": 27,
      "outputs": [
        {
          "output_type": "stream",
          "name": "stdout",
          "text": [
            "55\n"
          ]
        }
      ]
    },
    {
      "cell_type": "markdown",
      "source": [
        "5.3-6-9 게임(3의 배수 판단):3의 배수를 3으로 나누면 나머지가 0이 되므로 (i mod 3)의 값이 0이면 박수를 출력, 아니면 숫자 출력하는 코드"
      ],
      "metadata": {
        "id": "KoWrGyAv4K47"
      }
    },
    {
      "cell_type": "code",
      "source": [
        "for num in reage(1. 20):\n",
        "  if num % 3 == 0:\n",
        "    print(\"박수\", end=' ')\n",
        "  else:\n",
        "    print(unm, end=' ')"
      ],
      "metadata": {
        "colab": {
          "base_uri": "https://localhost:8080/",
          "height": 147
        },
        "id": "l7M1eezY4qRr",
        "outputId": "5ab3a679-17a4-42ec-ab3e-12dadb315045"
      },
      "execution_count": 31,
      "outputs": [
        {
          "output_type": "error",
          "ename": "SyntaxError",
          "evalue": "ignored",
          "traceback": [
            "\u001b[0;36m  File \u001b[0;32m\"<ipython-input-31-e5d24e7bea3d>\"\u001b[0;36m, line \u001b[0;32m1\u001b[0m\n\u001b[0;31m    for num in reage(1. 20):\u001b[0m\n\u001b[0m                     ^\u001b[0m\n\u001b[0;31mSyntaxError\u001b[0m\u001b[0;31m:\u001b[0m invalid syntax. Perhaps you forgot a comma?\n"
          ]
        }
      ]
    },
    {
      "cell_type": "code",
      "source": [
        "num = 1\n",
        "while num <= 20:\n",
        "  if num % 3 == 0:\n",
        "    print(\"박수\", end=' ')\n",
        "  else:\n",
        "    print(num, end=' ')\n",
        "  num += 1"
      ],
      "metadata": {
        "colab": {
          "base_uri": "https://localhost:8080/"
        },
        "id": "4O-D8FE55VNw",
        "outputId": "9b189fc0-d510-4446-ca94-6695ab4450d3"
      },
      "execution_count": 30,
      "outputs": [
        {
          "output_type": "stream",
          "name": "stdout",
          "text": [
            "1 2 박수 4 5 박수 7 8 박수 10 11 박수 13 14 박수 16 17 박수 19 20 "
          ]
        }
      ]
    }
  ]
}